{
 "cells": [
  {
   "cell_type": "markdown",
   "id": "f3635722",
   "metadata": {},
   "source": [
    "## TSF GRIP DATA SCIENCE AND BUSINESS ANALYTICS INTERN"
   ]
  },
  {
   "cell_type": "markdown",
   "id": "209435c8",
   "metadata": {},
   "source": [
    "\n",
    "# Task 1 : <span style=\"color: black;\">Prediction using Supervised ML</span> (<span style=\"color: black;\">Linear Regression</span>)\n",
    "\n",
    "\n"
   ]
  },
  {
   "cell_type": "markdown",
   "id": "05af16b7",
   "metadata": {},
   "source": [
    "\n",
    "\n",
    "### Author : Aishani Aarya"
   ]
  },
  {
   "cell_type": "markdown",
   "id": "6d028935-6feb-4b18-9c89-9abe7b5ff330",
   "metadata": {},
   "source": [
    "\n",
    "### Problem Statement:\n",
    "\n",
    "**Predict the perecentage of the student based on the no. of hours student studied using Simple Linear Regression model which involves two variables.**\n"
   ]
  },
  {
   "cell_type": "markdown",
   "id": "fdb25d55",
   "metadata": {},
   "source": [
    "In this notebook we will predict the percentage of marks that a student is expected to score based upon the number of hours they studied."
   ]
  },
  {
   "cell_type": "markdown",
   "id": "76558da4",
   "metadata": {},
   "source": [
    "### Importing all the neccesary libraries required in this notebook"
   ]
  },
  {
   "cell_type": "code",
   "execution_count": 137,
   "id": "80b12b30-61d1-45b0-be05-0b50ce0f2b56",
   "metadata": {},
   "outputs": [],
   "source": [
    "import pandas as pd\n",
    "import numpy as np  \n",
    "import seaborn as sns\n",
    "import matplotlib.pyplot as plt  \n",
    "\n",
    "from sklearn.model_selection import train_test_split\n",
    "from sklearn.linear_model import LinearRegression\n",
    "from sklearn.preprocessing import MinMaxScaler\n",
    "\n",
    "from sklearn.metrics import mean_absolute_error \n",
    "from sklearn.metrics import mean_squared_error \n",
    "from sklearn.metrics import r2_score\n",
    "\n",
    "%matplotlib inline"
   ]
  },
  {
   "cell_type": "markdown",
   "id": "5e08a582",
   "metadata": {},
   "source": [
    "### Reading Data from online source"
   ]
  },
  {
   "cell_type": "code",
   "execution_count": 64,
   "id": "b2de62a7",
   "metadata": {},
   "outputs": [
    {
     "name": "stdout",
     "output_type": "stream",
     "text": [
      "The data is imported successfully\n"
     ]
    },
    {
     "data": {
      "text/html": [
       "<div>\n",
       "<style scoped>\n",
       "    .dataframe tbody tr th:only-of-type {\n",
       "        vertical-align: middle;\n",
       "    }\n",
       "\n",
       "    .dataframe tbody tr th {\n",
       "        vertical-align: top;\n",
       "    }\n",
       "\n",
       "    .dataframe thead th {\n",
       "        text-align: right;\n",
       "    }\n",
       "</style>\n",
       "<table border=\"1\" class=\"dataframe\">\n",
       "  <thead>\n",
       "    <tr style=\"text-align: right;\">\n",
       "      <th></th>\n",
       "      <th>Hours</th>\n",
       "      <th>Scores</th>\n",
       "    </tr>\n",
       "  </thead>\n",
       "  <tbody>\n",
       "    <tr>\n",
       "      <th>0</th>\n",
       "      <td>2.5</td>\n",
       "      <td>21</td>\n",
       "    </tr>\n",
       "    <tr>\n",
       "      <th>1</th>\n",
       "      <td>5.1</td>\n",
       "      <td>47</td>\n",
       "    </tr>\n",
       "    <tr>\n",
       "      <th>2</th>\n",
       "      <td>3.2</td>\n",
       "      <td>27</td>\n",
       "    </tr>\n",
       "    <tr>\n",
       "      <th>3</th>\n",
       "      <td>8.5</td>\n",
       "      <td>75</td>\n",
       "    </tr>\n",
       "    <tr>\n",
       "      <th>4</th>\n",
       "      <td>3.5</td>\n",
       "      <td>30</td>\n",
       "    </tr>\n",
       "    <tr>\n",
       "      <th>5</th>\n",
       "      <td>1.5</td>\n",
       "      <td>20</td>\n",
       "    </tr>\n",
       "    <tr>\n",
       "      <th>6</th>\n",
       "      <td>9.2</td>\n",
       "      <td>88</td>\n",
       "    </tr>\n",
       "    <tr>\n",
       "      <th>7</th>\n",
       "      <td>5.5</td>\n",
       "      <td>60</td>\n",
       "    </tr>\n",
       "    <tr>\n",
       "      <th>8</th>\n",
       "      <td>8.3</td>\n",
       "      <td>81</td>\n",
       "    </tr>\n",
       "    <tr>\n",
       "      <th>9</th>\n",
       "      <td>2.7</td>\n",
       "      <td>25</td>\n",
       "    </tr>\n",
       "    <tr>\n",
       "      <th>10</th>\n",
       "      <td>7.7</td>\n",
       "      <td>85</td>\n",
       "    </tr>\n",
       "    <tr>\n",
       "      <th>11</th>\n",
       "      <td>5.9</td>\n",
       "      <td>62</td>\n",
       "    </tr>\n",
       "    <tr>\n",
       "      <th>12</th>\n",
       "      <td>4.5</td>\n",
       "      <td>41</td>\n",
       "    </tr>\n",
       "    <tr>\n",
       "      <th>13</th>\n",
       "      <td>3.3</td>\n",
       "      <td>42</td>\n",
       "    </tr>\n",
       "    <tr>\n",
       "      <th>14</th>\n",
       "      <td>1.1</td>\n",
       "      <td>17</td>\n",
       "    </tr>\n",
       "  </tbody>\n",
       "</table>\n",
       "</div>"
      ],
      "text/plain": [
       "    Hours  Scores\n",
       "0     2.5      21\n",
       "1     5.1      47\n",
       "2     3.2      27\n",
       "3     8.5      75\n",
       "4     3.5      30\n",
       "5     1.5      20\n",
       "6     9.2      88\n",
       "7     5.5      60\n",
       "8     8.3      81\n",
       "9     2.7      25\n",
       "10    7.7      85\n",
       "11    5.9      62\n",
       "12    4.5      41\n",
       "13    3.3      42\n",
       "14    1.1      17"
      ]
     },
     "execution_count": 64,
     "metadata": {},
     "output_type": "execute_result"
    }
   ],
   "source": [
    "url = \"http://bit.ly/w-data\"\n",
    "tab = pd.read_csv(url)\n",
    "print(\"The data is imported successfully\")\n",
    "tab.head(15)"
   ]
  },
  {
   "cell_type": "markdown",
   "id": "f3d7c574",
   "metadata": {},
   "source": [
    "### Understanding the Data"
   ]
  },
  {
   "cell_type": "code",
   "execution_count": 65,
   "id": "def809ed",
   "metadata": {},
   "outputs": [
    {
     "data": {
      "text/html": [
       "<div>\n",
       "<style scoped>\n",
       "    .dataframe tbody tr th:only-of-type {\n",
       "        vertical-align: middle;\n",
       "    }\n",
       "\n",
       "    .dataframe tbody tr th {\n",
       "        vertical-align: top;\n",
       "    }\n",
       "\n",
       "    .dataframe thead th {\n",
       "        text-align: right;\n",
       "    }\n",
       "</style>\n",
       "<table border=\"1\" class=\"dataframe\">\n",
       "  <thead>\n",
       "    <tr style=\"text-align: right;\">\n",
       "      <th></th>\n",
       "      <th>Hours</th>\n",
       "      <th>Scores</th>\n",
       "    </tr>\n",
       "  </thead>\n",
       "  <tbody>\n",
       "    <tr>\n",
       "      <th>count</th>\n",
       "      <td>25.000000</td>\n",
       "      <td>25.000000</td>\n",
       "    </tr>\n",
       "    <tr>\n",
       "      <th>mean</th>\n",
       "      <td>5.012000</td>\n",
       "      <td>51.480000</td>\n",
       "    </tr>\n",
       "    <tr>\n",
       "      <th>std</th>\n",
       "      <td>2.525094</td>\n",
       "      <td>25.286887</td>\n",
       "    </tr>\n",
       "    <tr>\n",
       "      <th>min</th>\n",
       "      <td>1.100000</td>\n",
       "      <td>17.000000</td>\n",
       "    </tr>\n",
       "    <tr>\n",
       "      <th>25%</th>\n",
       "      <td>2.700000</td>\n",
       "      <td>30.000000</td>\n",
       "    </tr>\n",
       "    <tr>\n",
       "      <th>50%</th>\n",
       "      <td>4.800000</td>\n",
       "      <td>47.000000</td>\n",
       "    </tr>\n",
       "    <tr>\n",
       "      <th>75%</th>\n",
       "      <td>7.400000</td>\n",
       "      <td>75.000000</td>\n",
       "    </tr>\n",
       "    <tr>\n",
       "      <th>max</th>\n",
       "      <td>9.200000</td>\n",
       "      <td>95.000000</td>\n",
       "    </tr>\n",
       "  </tbody>\n",
       "</table>\n",
       "</div>"
      ],
      "text/plain": [
       "           Hours     Scores\n",
       "count  25.000000  25.000000\n",
       "mean    5.012000  51.480000\n",
       "std     2.525094  25.286887\n",
       "min     1.100000  17.000000\n",
       "25%     2.700000  30.000000\n",
       "50%     4.800000  47.000000\n",
       "75%     7.400000  75.000000\n",
       "max     9.200000  95.000000"
      ]
     },
     "execution_count": 65,
     "metadata": {},
     "output_type": "execute_result"
    }
   ],
   "source": [
    "tab.describe()"
   ]
  },
  {
   "cell_type": "code",
   "execution_count": 66,
   "id": "25eb33a7",
   "metadata": {},
   "outputs": [
    {
     "name": "stdout",
     "output_type": "stream",
     "text": [
      "<class 'pandas.core.frame.DataFrame'>\n",
      "RangeIndex: 25 entries, 0 to 24\n",
      "Data columns (total 2 columns):\n",
      " #   Column  Non-Null Count  Dtype  \n",
      "---  ------  --------------  -----  \n",
      " 0   Hours   25 non-null     float64\n",
      " 1   Scores  25 non-null     int64  \n",
      "dtypes: float64(1), int64(1)\n",
      "memory usage: 528.0 bytes\n"
     ]
    }
   ],
   "source": [
    "tab.info()"
   ]
  },
  {
   "cell_type": "code",
   "execution_count": 67,
   "id": "3de876a1",
   "metadata": {},
   "outputs": [
    {
     "data": {
      "text/plain": [
       "(25, 2)"
      ]
     },
     "execution_count": 67,
     "metadata": {},
     "output_type": "execute_result"
    }
   ],
   "source": [
    "tab.shape"
   ]
  },
  {
   "cell_type": "markdown",
   "id": "a15495a7",
   "metadata": {},
   "source": [
    "### Analyzing the data for null values or error"
   ]
  },
  {
   "cell_type": "code",
   "execution_count": 68,
   "id": "8aa63869",
   "metadata": {},
   "outputs": [
    {
     "data": {
      "text/plain": [
       "Hours     0\n",
       "Scores    0\n",
       "dtype: int64"
      ]
     },
     "execution_count": 68,
     "metadata": {},
     "output_type": "execute_result"
    }
   ],
   "source": [
    "tab.isnull().sum()"
   ]
  },
  {
   "cell_type": "markdown",
   "id": "471f6c8d",
   "metadata": {},
   "source": [
    "Since, there is no Null Values present ,there is no need required for data cleaning.We can start visualizing the data"
   ]
  },
  {
   "cell_type": "markdown",
   "id": "30547d41",
   "metadata": {},
   "source": [
    "### Visualization"
   ]
  },
  {
   "cell_type": "markdown",
   "id": "63607946",
   "metadata": {},
   "source": [
    "Let's plot our data points on 2-D graph to eyeball our dataset and see if we can manually find any relationship between the data. We can create the plot with the following script."
   ]
  },
  {
   "cell_type": "code",
   "execution_count": 69,
   "id": "2d573749",
   "metadata": {},
   "outputs": [
    {
     "data": {
      "image/png": "[encoded data removed]",
      "text/plain": [
       "<Figure size 720x432 with 1 Axes>"
      ]
     },
     "metadata": {
      "needs_background": "light"
     },
     "output_type": "display_data"
    }
   ],
   "source": [
    "## Plotting the distribution of score\n",
    "tab.plot(x='Hours',y='Scores',style='o',figsize=(10,6))\n",
    "plt.title('Hours VS Percentage')\n",
    "plt.xlabel('Hours Studied')\n",
    "plt.ylabel('Percentage scored')\n",
    "plt.show()"
   ]
  },
  {
   "cell_type": "markdown",
   "id": "93320868",
   "metadata": {},
   "source": [
    "**Hence, we see that there is a positive linear relation between the number of hours studied and percentage of score and so we use a linear regrssion model to pred.**"
   ]
  },
  {
   "cell_type": "code",
   "execution_count": 70,
   "id": "ff0826da",
   "metadata": {},
   "outputs": [
    {
     "data": {
      "image/png": "[encoded data removed]",
      "text/plain": [
       "<Figure size 720x720 with 1 Axes>"
      ]
     },
     "metadata": {
      "needs_background": "light"
     },
     "output_type": "display_data"
    }
   ],
   "source": [
    "plt.rcParams[\"figure.figsize\"] = (10, 10)\n",
    "tab.plot(kind='bar')\n",
    "plt.title('Hours Vs Percentage')\n",
    "plt.xlabel('Hours Studied')\n",
    "plt.ylabel('Percentage Score')  \n",
    "plt.show()"
   ]
  },
  {
   "cell_type": "code",
   "execution_count": 71,
   "id": "726bec8b",
   "metadata": {},
   "outputs": [
    {
     "data": {
      "image/png": "[encoded data removed]",
      "text/plain": [
       "<Figure size 720x432 with 1 Axes>"
      ]
     },
     "metadata": {
      "needs_background": "light"
     },
     "output_type": "display_data"
    }
   ],
   "source": [
    "tab.plot(kind='hist',figsize=(10,6))\n",
    "plt.title('Hours vs Percentage')  \n",
    "plt.xlabel('Hours Studied')  \n",
    "plt.ylabel('Percentage Score')  \n",
    "plt.show()"
   ]
  },
  {
   "cell_type": "code",
   "execution_count": 72,
   "id": "5b2f6bf6",
   "metadata": {},
   "outputs": [
    {
     "data": {
      "image/png": "[encoded data removed]",
      "text/plain": [
       "<Figure size 720x576 with 2 Axes>"
      ]
     },
     "metadata": {
      "needs_background": "light"
     },
     "output_type": "display_data"
    }
   ],
   "source": [
    "## checking the correlation\n",
    "plt.figure(figsize=(10,8))\n",
    "sns.heatmap(tab.corr(),annot=True,cmap='PuRd',annot_kws={'fontsize':11})\n",
    "plt.xticks(fontsize=10)\n",
    "plt.yticks(fontsize=10)\n",
    "plt.show()"
   ]
  },
  {
   "cell_type": "markdown",
   "id": "7fe9d743",
   "metadata": {},
   "source": [
    "#### Correlation between the Scores and Hours of study is quite good, its about 98%"
   ]
  },
  {
   "cell_type": "markdown",
   "id": "e362ae65",
   "metadata": {},
   "source": [
    "### Preparing Data for distribution into the test and train dataset to develop our model"
   ]
  },
  {
   "cell_type": "code",
   "execution_count": 102,
   "id": "20bc406a",
   "metadata": {},
   "outputs": [],
   "source": [
    "## df.iloc[:, -1] it means the last column, but df.iloc[:, :-1] means until the last column.\n",
    "X=tab.iloc[:,:-1].values\n",
    "y=tab.iloc[:,1].values"
   ]
  },
  {
   "cell_type": "code",
   "execution_count": 103,
   "id": "efab6f1e",
   "metadata": {},
   "outputs": [],
   "source": [
    "# Splitting the data into test and train\n",
    "X_train, X_test, y_train, y_test = train_test_split(X, y,test_size=.20, random_state=0)"
   ]
  },
  {
   "cell_type": "markdown",
   "id": "a86fa20d",
   "metadata": {},
   "source": [
    "### Training the Model"
   ]
  },
  {
   "cell_type": "code",
   "execution_count": 104,
   "id": "073bf8ce",
   "metadata": {},
   "outputs": [
    {
     "name": "stdout",
     "output_type": "stream",
     "text": [
      "Training complete.\n"
     ]
    }
   ],
   "source": [
    "lr = LinearRegression()  \n",
    "lr.fit(X_train, y_train) \n",
    "\n",
    "print(\"Training complete.\")"
   ]
  },
  {
   "cell_type": "code",
   "execution_count": 105,
   "id": "4169f770",
   "metadata": {},
   "outputs": [
    {
     "data": {
      "image/png": "[encoded data removed]",
      "text/plain": [
       "<Figure size 720x720 with 1 Axes>"
      ]
     },
     "metadata": {
      "needs_background": "light"
     },
     "output_type": "display_data"
    }
   ],
   "source": [
    "# Plotting the regression line\n",
    "\n",
    "line = lr.coef_*X +lr.intercept_\n",
    "\n",
    "## As equation of line for best fit line is y=m*x + c\n",
    "\n",
    "####Plotting a scatter plot for x and y\n",
    "\n",
    "plt.scatter(X,y)\n",
    "plt.plot(X,line)\n",
    "plt.show()"
   ]
  },
  {
   "cell_type": "code",
   "execution_count": 106,
   "id": "0b5c5c43",
   "metadata": {},
   "outputs": [
    {
     "name": "stderr",
     "output_type": "stream",
     "text": [
      "C:\\Users\\Dell\\anaconda3\\lib\\site-packages\\seaborn\\_decorators.py:36: FutureWarning: Pass the following variables as keyword args: x, y. From version 0.12, the only valid positional argument will be `data`, and passing other arguments without an explicit keyword will result in an error or misinterpretation.\n",
      "  warnings.warn(\n"
     ]
    },
    {
     "data": {
      "image/png": "[encoded data removed]",
      "text/plain": [
       "<Figure size 720x360 with 1 Axes>"
      ]
     },
     "metadata": {
      "needs_background": "light"
     },
     "output_type": "display_data"
    }
   ],
   "source": [
    "# Plotting the best fitted line on the graph  using sns\n",
    "plt.figure(figsize=(10,5))\n",
    "sns.scatterplot(tab['Hours'],tab['Scores'],s=250,color='g')\n",
    "plt.plot(tab['Hours'],line,'r')\n",
    "plt.xlabel(xlabel='Hours',fontsize=20)\n",
    "plt.ylabel(ylabel='Scores',fontsize=20)\n",
    "plt.show()"
   ]
  },
  {
   "cell_type": "markdown",
   "id": "3f490a87",
   "metadata": {},
   "source": [
    "### Making Predictions"
   ]
  },
  {
   "cell_type": "code",
   "execution_count": 107,
   "id": "ceac55f8",
   "metadata": {},
   "outputs": [
    {
     "name": "stdout",
     "output_type": "stream",
     "text": [
      "[[1.5]\n",
      " [3.2]\n",
      " [7.4]\n",
      " [2.5]\n",
      " [5.9]]\n"
     ]
    }
   ],
   "source": [
    "print(X_test) ##testing data in hours\n",
    "y_pred=lr.predict(X_test) #predicting the scores\n"
   ]
  },
  {
   "cell_type": "markdown",
   "id": "0784cbf6",
   "metadata": {},
   "source": [
    "### Comparing Actual vs Predicted values"
   ]
  },
  {
   "cell_type": "code",
   "execution_count": 108,
   "id": "e376582a",
   "metadata": {},
   "outputs": [
    {
     "data": {
      "text/html": [
       "<div>\n",
       "<style scoped>\n",
       "    .dataframe tbody tr th:only-of-type {\n",
       "        vertical-align: middle;\n",
       "    }\n",
       "\n",
       "    .dataframe tbody tr th {\n",
       "        vertical-align: top;\n",
       "    }\n",
       "\n",
       "    .dataframe thead th {\n",
       "        text-align: right;\n",
       "    }\n",
       "</style>\n",
       "<table border=\"1\" class=\"dataframe\">\n",
       "  <thead>\n",
       "    <tr style=\"text-align: right;\">\n",
       "      <th></th>\n",
       "      <th>Actual</th>\n",
       "      <th>Predicted</th>\n",
       "    </tr>\n",
       "  </thead>\n",
       "  <tbody>\n",
       "    <tr>\n",
       "      <th>0</th>\n",
       "      <td>20</td>\n",
       "      <td>16.884145</td>\n",
       "    </tr>\n",
       "    <tr>\n",
       "      <th>1</th>\n",
       "      <td>27</td>\n",
       "      <td>33.732261</td>\n",
       "    </tr>\n",
       "    <tr>\n",
       "      <th>2</th>\n",
       "      <td>69</td>\n",
       "      <td>75.357018</td>\n",
       "    </tr>\n",
       "    <tr>\n",
       "      <th>3</th>\n",
       "      <td>30</td>\n",
       "      <td>26.794801</td>\n",
       "    </tr>\n",
       "    <tr>\n",
       "      <th>4</th>\n",
       "      <td>62</td>\n",
       "      <td>60.491033</td>\n",
       "    </tr>\n",
       "  </tbody>\n",
       "</table>\n",
       "</div>"
      ],
      "text/plain": [
       "   Actual  Predicted\n",
       "0      20  16.884145\n",
       "1      27  33.732261\n",
       "2      69  75.357018\n",
       "3      30  26.794801\n",
       "4      62  60.491033"
      ]
     },
     "execution_count": 108,
     "metadata": {},
     "output_type": "execute_result"
    }
   ],
   "source": [
    "# Comparing Actual vs Predicted Scores\n",
    "df_Compared = pd.DataFrame({'Actual': y_test, 'Predicted': y_pred})  \n",
    "df_Compared"
   ]
  },
  {
   "cell_type": "code",
   "execution_count": 109,
   "id": "7e091346",
   "metadata": {},
   "outputs": [
    {
     "data": {
      "image/png": "[encoded data removed]",
      "text/plain": [
       "<Figure size 720x720 with 1 Axes>"
      ]
     },
     "metadata": {
      "needs_background": "light"
     },
     "output_type": "display_data"
    }
   ],
   "source": [
    "df_Compared.Actual.plot()\n",
    "df_Compared.Predicted.plot()\n",
    "plt.title('Line Chart comparing Actual and predicted Values of Scores')\n",
    "plt.legend();"
   ]
  },
  {
   "cell_type": "code",
   "execution_count": 116,
   "id": "0127a8c7",
   "metadata": {},
   "outputs": [
    {
     "data": {
      "text/plain": [
       "Text(0.5, 1.0, 'Comaparison between Actual and Predicted Score Values')"
      ]
     },
     "execution_count": 116,
     "metadata": {},
     "output_type": "execute_result"
    },
    {
     "data": {
      "image/png": "[encoded data removed]",
      "text/plain": [
       "<Figure size 576x432 with 1 Axes>"
      ]
     },
     "metadata": {
      "needs_background": "light"
     },
     "output_type": "display_data"
    }
   ],
   "source": [
    "df_Compared.plot(kind='bar',figsize=(8,6), color=[\"m\", \"r\"])\n",
    "plt.title(\"Comaparison between Actual and Predicted Score Values\",\n",
    "                                                            fontsize=20)"
   ]
  },
  {
   "cell_type": "markdown",
   "id": "2d8d3877",
   "metadata": {},
   "source": [
    "### Testing on our required data"
   ]
  },
  {
   "cell_type": "code",
   "execution_count": 123,
   "id": "2ac28a32",
   "metadata": {},
   "outputs": [
    {
     "name": "stdout",
     "output_type": "stream",
     "text": [
      "If the student reads for 9.250 hours then he will score 93.692\n"
     ]
    }
   ],
   "source": [
    "hours=np.array(9.25).reshape(-1,1)\n",
    "own_pred=lr.predict(hours)\n",
    "print('If the student reads for %0.3f hours then he will score %0.3f'%(9.25, own_pred[0]))"
   ]
  },
  {
   "cell_type": "markdown",
   "id": "8f207284",
   "metadata": {},
   "source": [
    "### Model Evaluation Metrics"
   ]
  },
  {
   "cell_type": "code",
   "execution_count": 140,
   "id": "07161f93",
   "metadata": {},
   "outputs": [
    {
     "name": "stdout",
     "output_type": "stream",
     "text": [
      "Mean Absolute Error: 4.183859899002975\n",
      "Root Mean Square Error: 4.6474476121003665\n",
      "R-Square: 0.9454906892105356\n"
     ]
    }
   ],
   "source": [
    "# To find Mean Absolute Error(mse)\n",
    "mse = (mean_absolute_error(y_test, y_pred))\n",
    "print(\"Mean Absolute Error:\",mse)\n",
    "\n",
    "# To find Root Mean Squared Error(rmse)\n",
    "rmse = (np.sqrt(mean_squared_error(y_test, y_pred)))\n",
    "print(\"Root Mean Square Error:\",rmse)\n",
    "\n",
    "# To find coefficient of determination\n",
    "r2 =  r2_score(y_test, y_pred)\n",
    "print(\"R-Square:\",r2)\n"
   ]
  },
  {
   "cell_type": "markdown",
   "id": "c7712ba6",
   "metadata": {},
   "source": [
    "## The accuracy of the model is 94.55%. The mean absolute error is 4.18%"
   ]
  },
  {
   "cell_type": "markdown",
   "id": "53f0765c",
   "metadata": {},
   "source": [
    "### We can see the value of the root mean squared error is 4.509 and the mean value of the percentages of all the students is 51.48 (from the statistical details obtained in cell no. 3). Here root mean squared error is less than 10% of the mean value of the percentages of all the student scores. Hence, it is safe to conclue the model did a decent job to predict the the student score as 93.89 % when student studies for 9.25 hours."
   ]
  },
  {
   "cell_type": "code",
   "execution_count": 142,
   "id": "45a9c1e1",
   "metadata": {},
   "outputs": [],
   "source": [
    "\n",
    "import pickle\n",
    "pickle_out = open('regressor.pickle', 'wb')\n",
    "pickle.dump(regressor, pickle_out)\n",
    "pickle_out.close()"
   ]
  },
  {
   "cell_type": "code",
   "execution_count": null,
   "id": "92efc25c",
   "metadata": {},
   "outputs": [],
   "source": []
  }
 ],
 "metadata": {
  "kernelspec": {
   "display_name": "Python 3",
   "language": "python",
   "name": "python3"
  },
  "language_info": {
   "codemirror_mode": {
    "name": "ipython",
    "version": 3
   },
   "file_extension": ".py",
   "mimetype": "text/x-python",
   "name": "python",
   "nbconvert_exporter": "python",
   "pygments_lexer": "ipython3",
   "version": "3.8.8"
  }
 },
 "nbformat": 4,
 "nbformat_minor": 5
}
